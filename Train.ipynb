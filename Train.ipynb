{
 "cells": [
  {
   "cell_type": "code",
   "execution_count": 1,
   "metadata": {
    "colab": {
     "base_uri": "https://localhost:8080/"
    },
    "executionInfo": {
     "elapsed": 25263,
     "status": "ok",
     "timestamp": 1604646652018,
     "user": {
      "displayName": "Saurabh Kore",
      "photoUrl": "https://lh3.googleusercontent.com/a-/AOh14Ghv_JHsfv4kcW_clbVVlDN1Nd-NJF5K0jbmeLIY3A=s64",
      "userId": "02435159168095159383"
     },
     "user_tz": -330
    },
    "id": "42VZkpOp4_1V",
    "outputId": "6a37958d-f53b-4417-b633-c008f8c40420"
   },
   "outputs": [
    {
     "name": "stdout",
     "output_type": "stream",
     "text": [
      "Mounted at /content/drive\n"
     ]
    }
   ],
   "source": [
    "from google.colab import drive\n",
    "drive.mount('/content/drive')"
   ]
  },
  {
   "cell_type": "code",
   "execution_count": 2,
   "metadata": {
    "colab": {
     "base_uri": "https://localhost:8080/"
    },
    "executionInfo": {
     "elapsed": 904,
     "status": "ok",
     "timestamp": 1604646654271,
     "user": {
      "displayName": "Saurabh Kore",
      "photoUrl": "https://lh3.googleusercontent.com/a-/AOh14Ghv_JHsfv4kcW_clbVVlDN1Nd-NJF5K0jbmeLIY3A=s64",
      "userId": "02435159168095159383"
     },
     "user_tz": -330
    },
    "id": "X4tf9QCF59Qn",
    "outputId": "971d1855-5c52-4bfb-daed-d537586c7ef0"
   },
   "outputs": [
    {
     "data": {
      "text/plain": [
       "['.config', 'drive', 'sample_data']"
      ]
     },
     "execution_count": 2,
     "metadata": {
      "tags": []
     },
     "output_type": "execute_result"
    }
   ],
   "source": [
    "import os\n",
    "os.listdir()"
   ]
  },
  {
   "cell_type": "code",
   "execution_count": 3,
   "metadata": {
    "executionInfo": {
     "elapsed": 1808,
     "status": "ok",
     "timestamp": 1604646657020,
     "user": {
      "displayName": "Saurabh Kore",
      "photoUrl": "https://lh3.googleusercontent.com/a-/AOh14Ghv_JHsfv4kcW_clbVVlDN1Nd-NJF5K0jbmeLIY3A=s64",
      "userId": "02435159168095159383"
     },
     "user_tz": -330
    },
    "id": "5wkcZ_oW71-f"
   },
   "outputs": [],
   "source": [
    "#to change the current directory\n",
    "os.chdir('/content/drive/My Drive')"
   ]
  },
  {
   "cell_type": "code",
   "execution_count": 4,
   "metadata": {
    "colab": {
     "base_uri": "https://localhost:8080/",
     "height": 35
    },
    "executionInfo": {
     "elapsed": 921,
     "status": "ok",
     "timestamp": 1604646657025,
     "user": {
      "displayName": "Saurabh Kore",
      "photoUrl": "https://lh3.googleusercontent.com/a-/AOh14Ghv_JHsfv4kcW_clbVVlDN1Nd-NJF5K0jbmeLIY3A=s64",
      "userId": "02435159168095159383"
     },
     "user_tz": -330
    },
    "id": "_9mi17FG7-bx",
    "outputId": "c14e0b51-c6fe-4e68-8ac2-34a28f4b0035"
   },
   "outputs": [
    {
     "data": {
      "application/vnd.google.colaboratory.intrinsic+json": {
       "type": "string"
      },
      "text/plain": [
       "'/content/drive/My Drive'"
      ]
     },
     "execution_count": 4,
     "metadata": {
      "tags": []
     },
     "output_type": "execute_result"
    }
   ],
   "source": [
    "#checing for the current working directory\n",
    "pwd"
   ]
  },
  {
   "cell_type": "code",
   "execution_count": 5,
   "metadata": {
    "executionInfo": {
     "elapsed": 5416,
     "status": "ok",
     "timestamp": 1604646663278,
     "user": {
      "displayName": "Saurabh Kore",
      "photoUrl": "https://lh3.googleusercontent.com/a-/AOh14Ghv_JHsfv4kcW_clbVVlDN1Nd-NJF5K0jbmeLIY3A=s64",
      "userId": "02435159168095159383"
     },
     "user_tz": -330
    },
    "id": "eMThE-tL8GRO"
   },
   "outputs": [],
   "source": [
    "import sys, glob, subprocess\n",
    "from itertools import product\n",
    "\n",
    "import shutil\n",
    "#from IPython.display import Image as JImage\n",
    "\n",
    "import numpy as np\n",
    "import cv2\n",
    "import dlib\n",
    "from PIL import Image\n",
    "from skimage import io\n",
    "from matplotlib.gridspec import GridSpec\n",
    "from matplotlib import pyplot as plt\n",
    "\n",
    "import tensorflow as tf\n",
    "\n",
    "import keras\n",
    "from keras.layers import Dense\n",
    "from keras.models import Model\n",
    "from keras.preprocessing.image import ImageDataGenerator, array_to_img, img_to_array, load_img\n",
    "from keras.applications.resnet50 import preprocess_input, decode_predictions\n",
    "import warnings\n",
    "warnings.filterwarnings(\"ignore\")"
   ]
  },
  {
   "cell_type": "code",
   "execution_count": 6,
   "metadata": {
    "executionInfo": {
     "elapsed": 1729,
     "status": "ok",
     "timestamp": 1604646667629,
     "user": {
      "displayName": "Saurabh Kore",
      "photoUrl": "https://lh3.googleusercontent.com/a-/AOh14Ghv_JHsfv4kcW_clbVVlDN1Nd-NJF5K0jbmeLIY3A=s64",
      "userId": "02435159168095159383"
     },
     "user_tz": -330
    },
    "id": "ofAk3IBX8TxT"
   },
   "outputs": [],
   "source": [
    "#setting the batch size\n",
    "batch_size=16"
   ]
  },
  {
   "cell_type": "code",
   "execution_count": 7,
   "metadata": {
    "executionInfo": {
     "elapsed": 942,
     "status": "ok",
     "timestamp": 1604646667632,
     "user": {
      "displayName": "Saurabh Kore",
      "photoUrl": "https://lh3.googleusercontent.com/a-/AOh14Ghv_JHsfv4kcW_clbVVlDN1Nd-NJF5K0jbmeLIY3A=s64",
      "userId": "02435159168095159383"
     },
     "user_tz": -330
    },
    "id": "xCwY4wjj8UHM"
   },
   "outputs": [],
   "source": [
    "# ImageDataGenerator from Keras\n",
    "datagen = ImageDataGenerator(\n",
    "        rotation_range=40,\n",
    "        width_shift_range=0.2,\n",
    "        height_shift_range=0.2,\n",
    "        shear_range=0.2,\n",
    "        zoom_range=0.2,\n",
    "        horizontal_flip=True,\n",
    "        fill_mode='nearest',\n",
    "        #data_format=\"channels_last\",\n",
    "        preprocessing_function=preprocess_input,\n",
    ")"
   ]
  },
  {
   "cell_type": "code",
   "execution_count": 8,
   "metadata": {
    "executionInfo": {
     "elapsed": 1640,
     "status": "ok",
     "timestamp": 1604646670555,
     "user": {
      "displayName": "Saurabh Kore",
      "photoUrl": "https://lh3.googleusercontent.com/a-/AOh14Ghv_JHsfv4kcW_clbVVlDN1Nd-NJF5K0jbmeLIY3A=s64",
      "userId": "02435159168095159383"
     },
     "user_tz": -330
    },
    "id": "LGFPOuNw8T3_"
   },
   "outputs": [],
   "source": [
    "#Defining the path of the training and test data \n",
    "train_dir,test_dir=('dataset/Train', 'dataset/Test')"
   ]
  },
  {
   "cell_type": "code",
   "execution_count": 9,
   "metadata": {
    "colab": {
     "base_uri": "https://localhost:8080/"
    },
    "executionInfo": {
     "elapsed": 8687,
     "status": "ok",
     "timestamp": 1604646678721,
     "user": {
      "displayName": "Saurabh Kore",
      "photoUrl": "https://lh3.googleusercontent.com/a-/AOh14Ghv_JHsfv4kcW_clbVVlDN1Nd-NJF5K0jbmeLIY3A=s64",
      "userId": "02435159168095159383"
     },
     "user_tz": -330
    },
    "id": "HMfvtsr-8T3H",
    "outputId": "c20a8472-4389-40f8-d0f7-e08b0fac3e4c"
   },
   "outputs": [
    {
     "name": "stdout",
     "output_type": "stream",
     "text": [
      "Found 2204 images belonging to 2 classes.\n"
     ]
    }
   ],
   "source": [
    "#instead of loading all images into the ram we will do it in batch manner\n",
    "# generator for train data\n",
    "train_generator = datagen.flow_from_directory(\n",
    "        train_dir,  \n",
    "        target_size=(224, 224),  #all images will be resized to (224,224)\n",
    "        batch_size=batch_size,\n",
    "        class_mode='categorical',\n",
    "        shuffle=True\n",
    ")"
   ]
  },
  {
   "cell_type": "code",
   "execution_count": 11,
   "metadata": {
    "colab": {
     "base_uri": "https://localhost:8080/"
    },
    "executionInfo": {
     "elapsed": 2595,
     "status": "ok",
     "timestamp": 1604646685350,
     "user": {
      "displayName": "Saurabh Kore",
      "photoUrl": "https://lh3.googleusercontent.com/a-/AOh14Ghv_JHsfv4kcW_clbVVlDN1Nd-NJF5K0jbmeLIY3A=s64",
      "userId": "02435159168095159383"
     },
     "user_tz": -330
    },
    "id": "gvDxrz6G8Tj0",
    "outputId": "6d15c4d9-1c57-4510-a87c-aa85776d01c0"
   },
   "outputs": [
    {
     "name": "stdout",
     "output_type": "stream",
     "text": [
      "Found 200 images belonging to 2 classes.\n"
     ]
    }
   ],
   "source": [
    "# generator for validation data\n",
    "validation_generator = datagen.flow_from_directory(\n",
    "        test_dir, \n",
    "        target_size=(224, 224),  #all images will be resized to (224,224)\n",
    "        batch_size=batch_size,\n",
    "        class_mode='categorical',\n",
    "        shuffle=True\n",
    ")"
   ]
  },
  {
   "cell_type": "code",
   "execution_count": 12,
   "metadata": {
    "colab": {
     "base_uri": "https://localhost:8080/"
    },
    "executionInfo": {
     "elapsed": 13862,
     "status": "ok",
     "timestamp": 1604646702277,
     "user": {
      "displayName": "Saurabh Kore",
      "photoUrl": "https://lh3.googleusercontent.com/a-/AOh14Ghv_JHsfv4kcW_clbVVlDN1Nd-NJF5K0jbmeLIY3A=s64",
      "userId": "02435159168095159383"
     },
     "user_tz": -330
    },
    "id": "xO0xXR_b868t",
    "outputId": "720e24ed-c196-4cfe-903d-81e65ac89cd1"
   },
   "outputs": [
    {
     "name": "stdout",
     "output_type": "stream",
     "text": [
      "Downloading data from https://storage.googleapis.com/tensorflow/keras-applications/resnet/resnet50_weights_tf_dim_ordering_tf_kernels.h5\n",
      "102973440/102967424 [==============================] - 5s 0us/step\n"
     ]
    }
   ],
   "source": [
    "# will be using Resnet model pretrained on \"imagenet\" dataset\n",
    "resnet50=keras.applications.resnet50.ResNet50(include_top=True,\n",
    "                                     weights=\"imagenet\", \n",
    "                                     input_tensor=None, \n",
    "                                     input_shape=None,\n",
    "                                     pooling=None, \n",
    "                                     )"
   ]
  },
  {
   "cell_type": "code",
   "execution_count": 20,
   "metadata": {
    "executionInfo": {
     "elapsed": 1381,
     "status": "ok",
     "timestamp": 1604650511313,
     "user": {
      "displayName": "Saurabh Kore",
      "photoUrl": "https://lh3.googleusercontent.com/a-/AOh14Ghv_JHsfv4kcW_clbVVlDN1Nd-NJF5K0jbmeLIY3A=s64",
      "userId": "02435159168095159383"
     },
     "user_tz": -330
    },
    "id": "O_HF3_QG86fy"
   },
   "outputs": [],
   "source": [
    "#changing last two layers as we want only two output \n",
    "#keeping all layers trainable\n",
    "output=Dense(2, activation=\"softmax\",kernel_initializer=tf.keras.initializers.glorot_normal(seed=3))(resnet50.layers[-2].output) #new output layer\n",
    "model=Model(resnet50.input, output) # new model with above output layer instead of 1000d from imagenet\n",
    "model.compile(loss=\"categorical_crossentropy\",optimizer='adam',metrics=['accuracy'])\n"
   ]
  },
  {
   "cell_type": "code",
   "execution_count": 26,
   "metadata": {
    "executionInfo": {
     "elapsed": 1343,
     "status": "ok",
     "timestamp": 1604653255873,
     "user": {
      "displayName": "Saurabh Kore",
      "photoUrl": "https://lh3.googleusercontent.com/a-/AOh14Ghv_JHsfv4kcW_clbVVlDN1Nd-NJF5K0jbmeLIY3A=s64",
      "userId": "02435159168095159383"
     },
     "user_tz": -330
    },
    "id": "aLv73gCi5Du7"
   },
   "outputs": [],
   "source": [
    "#we will save the best model as best.h5 which has most validatin accuracy\n",
    "checkpoint = tf.keras.callbacks.ModelCheckpoint(\"best.h5\", monitor='val_accuracy', verbose=1, save_best_only=True,mode='max')\n",
    "callbacks_list = [checkpoint]\n"
   ]
  },
  {
   "cell_type": "code",
   "execution_count": 27,
   "metadata": {
    "colab": {
     "base_uri": "https://localhost:8080/"
    },
    "executionInfo": {
     "elapsed": 1395150,
     "status": "ok",
     "timestamp": 1604654652304,
     "user": {
      "displayName": "Saurabh Kore",
      "photoUrl": "https://lh3.googleusercontent.com/a-/AOh14Ghv_JHsfv4kcW_clbVVlDN1Nd-NJF5K0jbmeLIY3A=s64",
      "userId": "02435159168095159383"
     },
     "user_tz": -330
    },
    "id": "wC0l22tb86Ex",
    "outputId": "d3765123-fd0c-4789-ad67-1e9b72a78bf4"
   },
   "outputs": [
    {
     "name": "stdout",
     "output_type": "stream",
     "text": [
      "Epoch 1/25\n",
      "138/138 [==============================] - ETA: 0s - loss: 0.0551 - accuracy: 0.9809\n",
      "Epoch 00001: val_accuracy improved from -inf to 0.88000, saving model to best.h5\n",
      "138/138 [==============================] - 57s 411ms/step - loss: 0.0551 - accuracy: 0.9809 - val_loss: 0.2734 - val_accuracy: 0.8800\n",
      "Epoch 2/25\n",
      "138/138 [==============================] - ETA: 0s - loss: 0.0732 - accuracy: 0.9741\n",
      "Epoch 00002: val_accuracy improved from 0.88000 to 0.92500, saving model to best.h5\n",
      "138/138 [==============================] - 59s 424ms/step - loss: 0.0732 - accuracy: 0.9741 - val_loss: 0.2260 - val_accuracy: 0.9250\n",
      "Epoch 3/25\n",
      "138/138 [==============================] - ETA: 0s - loss: 0.0617 - accuracy: 0.9782\n",
      "Epoch 00003: val_accuracy improved from 0.92500 to 0.97500, saving model to best.h5\n",
      "138/138 [==============================] - 59s 424ms/step - loss: 0.0617 - accuracy: 0.9782 - val_loss: 0.0722 - val_accuracy: 0.9750\n",
      "Epoch 4/25\n",
      "138/138 [==============================] - ETA: 0s - loss: 0.0605 - accuracy: 0.9791\n",
      "Epoch 00004: val_accuracy did not improve from 0.97500\n",
      "138/138 [==============================] - 55s 398ms/step - loss: 0.0605 - accuracy: 0.9791 - val_loss: 0.1401 - val_accuracy: 0.9500\n",
      "Epoch 5/25\n",
      "138/138 [==============================] - ETA: 0s - loss: 0.0516 - accuracy: 0.9805\n",
      "Epoch 00005: val_accuracy did not improve from 0.97500\n",
      "138/138 [==============================] - 55s 396ms/step - loss: 0.0516 - accuracy: 0.9805 - val_loss: 0.1223 - val_accuracy: 0.9750\n",
      "Epoch 6/25\n",
      "138/138 [==============================] - ETA: 0s - loss: 0.0615 - accuracy: 0.9778\n",
      "Epoch 00006: val_accuracy did not improve from 0.97500\n",
      "138/138 [==============================] - 55s 396ms/step - loss: 0.0615 - accuracy: 0.9778 - val_loss: 0.6154 - val_accuracy: 0.7950\n",
      "Epoch 7/25\n",
      "138/138 [==============================] - ETA: 0s - loss: 0.0622 - accuracy: 0.9746\n",
      "Epoch 00007: val_accuracy did not improve from 0.97500\n",
      "138/138 [==============================] - 55s 396ms/step - loss: 0.0622 - accuracy: 0.9746 - val_loss: 0.1196 - val_accuracy: 0.9450\n",
      "Epoch 8/25\n",
      "138/138 [==============================] - ETA: 0s - loss: 0.0616 - accuracy: 0.9796\n",
      "Epoch 00008: val_accuracy did not improve from 0.97500\n",
      "138/138 [==============================] - 55s 396ms/step - loss: 0.0616 - accuracy: 0.9796 - val_loss: 0.1503 - val_accuracy: 0.9350\n",
      "Epoch 9/25\n",
      "138/138 [==============================] - ETA: 0s - loss: 0.0506 - accuracy: 0.9814\n",
      "Epoch 00009: val_accuracy did not improve from 0.97500\n",
      "138/138 [==============================] - 55s 395ms/step - loss: 0.0506 - accuracy: 0.9814 - val_loss: 0.0926 - val_accuracy: 0.9600\n",
      "Epoch 10/25\n",
      "138/138 [==============================] - ETA: 0s - loss: 0.0616 - accuracy: 0.9787\n",
      "Epoch 00010: val_accuracy did not improve from 0.97500\n",
      "138/138 [==============================] - 55s 396ms/step - loss: 0.0616 - accuracy: 0.9787 - val_loss: 0.1639 - val_accuracy: 0.9500\n",
      "Epoch 11/25\n",
      "138/138 [==============================] - ETA: 0s - loss: 0.0579 - accuracy: 0.9773\n",
      "Epoch 00011: val_accuracy did not improve from 0.97500\n",
      "138/138 [==============================] - 55s 395ms/step - loss: 0.0579 - accuracy: 0.9773 - val_loss: 0.0776 - val_accuracy: 0.9750\n",
      "Epoch 12/25\n",
      "138/138 [==============================] - ETA: 0s - loss: 0.0512 - accuracy: 0.9814\n",
      "Epoch 00012: val_accuracy improved from 0.97500 to 0.98000, saving model to best.h5\n",
      "138/138 [==============================] - 58s 423ms/step - loss: 0.0512 - accuracy: 0.9814 - val_loss: 0.1271 - val_accuracy: 0.9800\n",
      "Epoch 13/25\n",
      "138/138 [==============================] - ETA: 0s - loss: 0.0525 - accuracy: 0.9828\n",
      "Epoch 00013: val_accuracy did not improve from 0.98000\n",
      "138/138 [==============================] - 55s 396ms/step - loss: 0.0525 - accuracy: 0.9828 - val_loss: 0.0961 - val_accuracy: 0.9700\n",
      "Epoch 14/25\n",
      "138/138 [==============================] - ETA: 0s - loss: 0.0537 - accuracy: 0.9850\n",
      "Epoch 00014: val_accuracy did not improve from 0.98000\n",
      "138/138 [==============================] - 55s 395ms/step - loss: 0.0537 - accuracy: 0.9850 - val_loss: 0.1064 - val_accuracy: 0.9650\n",
      "Epoch 15/25\n",
      "138/138 [==============================] - ETA: 0s - loss: 0.0515 - accuracy: 0.9823\n",
      "Epoch 00015: val_accuracy did not improve from 0.98000\n",
      "138/138 [==============================] - 55s 396ms/step - loss: 0.0515 - accuracy: 0.9823 - val_loss: 0.2138 - val_accuracy: 0.9550\n",
      "Epoch 16/25\n",
      "138/138 [==============================] - ETA: 0s - loss: 0.0698 - accuracy: 0.9750\n",
      "Epoch 00016: val_accuracy improved from 0.98000 to 0.99000, saving model to best.h5\n",
      "138/138 [==============================] - 58s 422ms/step - loss: 0.0698 - accuracy: 0.9750 - val_loss: 0.1163 - val_accuracy: 0.9900\n",
      "Epoch 17/25\n",
      "138/138 [==============================] - ETA: 0s - loss: 0.0618 - accuracy: 0.9773\n",
      "Epoch 00017: val_accuracy did not improve from 0.99000\n",
      "138/138 [==============================] - 55s 397ms/step - loss: 0.0618 - accuracy: 0.9773 - val_loss: 0.1133 - val_accuracy: 0.9700\n",
      "Epoch 18/25\n",
      "138/138 [==============================] - ETA: 0s - loss: 0.0486 - accuracy: 0.9823\n",
      "Epoch 00018: val_accuracy did not improve from 0.99000\n",
      "138/138 [==============================] - 54s 395ms/step - loss: 0.0486 - accuracy: 0.9823 - val_loss: 0.1329 - val_accuracy: 0.9700\n",
      "Epoch 19/25\n",
      "138/138 [==============================] - ETA: 0s - loss: 0.0443 - accuracy: 0.9855\n",
      "Epoch 00019: val_accuracy did not improve from 0.99000\n",
      "138/138 [==============================] - 55s 395ms/step - loss: 0.0443 - accuracy: 0.9855 - val_loss: 0.1587 - val_accuracy: 0.9400\n",
      "Epoch 20/25\n",
      "138/138 [==============================] - ETA: 0s - loss: 0.0538 - accuracy: 0.9814\n",
      "Epoch 00020: val_accuracy did not improve from 0.99000\n",
      "138/138 [==============================] - 55s 395ms/step - loss: 0.0538 - accuracy: 0.9814 - val_loss: 0.0955 - val_accuracy: 0.9550\n",
      "Epoch 21/25\n",
      "138/138 [==============================] - ETA: 0s - loss: 0.0439 - accuracy: 0.9873\n",
      "Epoch 00021: val_accuracy did not improve from 0.99000\n",
      "138/138 [==============================] - 55s 397ms/step - loss: 0.0439 - accuracy: 0.9873 - val_loss: 0.1742 - val_accuracy: 0.9450\n",
      "Epoch 22/25\n",
      "138/138 [==============================] - ETA: 0s - loss: 0.0633 - accuracy: 0.9782\n",
      "Epoch 00022: val_accuracy did not improve from 0.99000\n",
      "138/138 [==============================] - 55s 396ms/step - loss: 0.0633 - accuracy: 0.9782 - val_loss: 0.1315 - val_accuracy: 0.9700\n",
      "Epoch 23/25\n",
      "138/138 [==============================] - ETA: 0s - loss: 0.0355 - accuracy: 0.9873\n",
      "Epoch 00023: val_accuracy did not improve from 0.99000\n",
      "138/138 [==============================] - 55s 396ms/step - loss: 0.0355 - accuracy: 0.9873 - val_loss: 0.0870 - val_accuracy: 0.9600\n",
      "Epoch 24/25\n",
      "138/138 [==============================] - ETA: 0s - loss: 0.0341 - accuracy: 0.9864\n",
      "Epoch 00024: val_accuracy did not improve from 0.99000\n",
      "138/138 [==============================] - 55s 396ms/step - loss: 0.0341 - accuracy: 0.9864 - val_loss: 0.0994 - val_accuracy: 0.9650\n",
      "Epoch 25/25\n",
      "138/138 [==============================] - ETA: 0s - loss: 0.0420 - accuracy: 0.9846\n",
      "Epoch 00025: val_accuracy did not improve from 0.99000\n",
      "138/138 [==============================] - 55s 395ms/step - loss: 0.0420 - accuracy: 0.9846 - val_loss: 0.1119 - val_accuracy: 0.9550\n"
     ]
    },
    {
     "data": {
      "text/plain": [
       "<tensorflow.python.keras.callbacks.History at 0x7fbe90192a20>"
      ]
     },
     "execution_count": 27,
     "metadata": {
      "tags": []
     },
     "output_type": "execute_result"
    }
   ],
   "source": [
    "model.fit(train_generator,\n",
    "                          steps_per_epoch=len(train_generator),\n",
    "                          epochs=25,\n",
    "                          validation_data=validation_generator,\n",
    "                          validation_steps=len(validation_generator),\n",
    "                          callbacks=callbacks_list #to save beat model\n",
    ") #train the model for 25 epochs"
   ]
  },
  {
   "cell_type": "code",
   "execution_count": null,
   "metadata": {
    "id": "VBw9AXbw85K9"
   },
   "outputs": [],
   "source": []
  }
 ],
 "metadata": {
  "accelerator": "GPU",
  "colab": {
   "authorship_tag": "ABX9TyM9s8WtqB8xZWSSWuQwysc2",
   "name": "demo.ipynb",
   "provenance": []
  },
  "kernelspec": {
   "display_name": "Python 3",
   "language": "python",
   "name": "python3"
  },
  "language_info": {
   "codemirror_mode": {
    "name": "ipython",
    "version": 3
   },
   "file_extension": ".py",
   "mimetype": "text/x-python",
   "name": "python",
   "nbconvert_exporter": "python",
   "pygments_lexer": "ipython3",
   "version": "3.6.12"
  }
 },
 "nbformat": 4,
 "nbformat_minor": 1
}
